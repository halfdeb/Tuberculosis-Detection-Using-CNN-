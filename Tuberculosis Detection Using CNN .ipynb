{
 "cells": [
  {
   "cell_type": "code",
   "execution_count": null,
   "metadata": {
    "_cell_guid": "b1076dfc-b9ad-4769-8c92-a6c4dae69d19",
    "_uuid": "8f2839f25d086af736a60e9eeb907d3b93b6e0e5"
   },
   "outputs": [],
   "source": [
    "# This Python 3 environment comes with many helpful analytics libraries installed\n",
    "# It is defined by the kaggle/python Docker image: https://github.com/kaggle/docker-python\n",
    "# For example, here's several helpful packages to load\n",
    "\n",
    "import numpy as np # linear algebra\n",
    "import pandas as pd # data processing, CSV file I/O (e.g. pd.read_csv)\n",
    "\n",
    "# Input data files are available in the read-only \"../input/\" directory\n",
    "# For example, running this (by clicking run or pressing Shift+Enter) will list all files under the input directory\n",
    "\n",
    "import os\n",
    "for dirname, _, filenames in os.walk('/kaggle/input'):\n",
    "    for filename in filenames:\n",
    "        print(os.path.join(dirname, filename))\n",
    "\n",
    "# You can write up to 20GB to the current directory (/kaggle/working/) that gets preserved as output when you create a version using \"Save & Run All\" \n",
    "# You can also write temporary files to /kaggle/temp/, but they won't be saved outside of the current session"
   ]
  },
  {
   "cell_type": "markdown",
   "metadata": {
    "execution": {
     "iopub.execute_input": "2024-02-25T04:50:08.675700Z",
     "iopub.status.busy": "2024-02-25T04:50:08.675039Z",
     "iopub.status.idle": "2024-02-25T04:50:08.681758Z",
     "shell.execute_reply": "2024-02-25T04:50:08.680284Z",
     "shell.execute_reply.started": "2024-02-25T04:50:08.675661Z"
    }
   },
   "source": [
    "# <font color='red'>Part 1: Loading Dataset<font color='red'> 📦"
   ]
  },
  {
   "cell_type": "markdown",
   "metadata": {},
   "source": [
    "### Import Libraries"
   ]
  },
  {
   "cell_type": "code",
   "execution_count": null,
   "metadata": {},
   "outputs": [],
   "source": [
    "import numpy as np # linear algebra\n",
    "import pandas as pd # data processing, CSV file I/O (e.g. pd.read_csv)\n",
    "import os\n",
    "import cv2\n",
    "from pathlib import Path\n",
    "import seaborn as sns\n",
    "import matplotlib.pyplot as plt\n",
    "from skimage.io import imread\n",
    "\n",
    "from tqdm import tqdm\n",
    "from sklearn.model_selection import train_test_split\n",
    "\n",
    "from tensorflow import keras\n",
    "from tensorflow.keras import layers\n",
    "\n",
    "import tensorflow as tf\n",
    "from tensorflow.keras import layers, models\n",
    "from sklearn.metrics import classification_report, confusion_matrix\n",
    "import seaborn as sns\n",
    "from sklearn.metrics import f1_score\n",
    "import matplotlib.pyplot as plt"
   ]
  },
  {
   "cell_type": "markdown",
   "metadata": {},
   "source": [
    "### Set Path and Directories"
   ]
  },
  {
   "cell_type": "code",
   "execution_count": null,
   "metadata": {},
   "outputs": [],
   "source": [
    "# Set the path to the dataset\n",
    "data_dir = Path('../input/tuberculosis-tb-chest-xray-dataset/TB_Chest_Radiography_Database/')\n",
    "\n",
    "data_dir\n",
    "\n",
    "# Specify directories for normal and tuberculosis cases\n",
    "normal_cases_dir = data_dir / 'Normal'\n",
    "Tuberculosis_cases_dir = data_dir / 'Tuberculosis'\n",
    "\n",
    "# Get the list of all the images\n",
    "normal_cases = normal_cases_dir.glob('*.png')\n",
    "Tuberculosis_cases = Tuberculosis_cases_dir.glob('*.png')"
   ]
  },
  {
   "cell_type": "markdown",
   "metadata": {},
   "source": [
    "### Load Image Paths and Labels"
   ]
  },
  {
   "cell_type": "code",
   "execution_count": null,
   "metadata": {},
   "outputs": [],
   "source": [
    "# Create lists to store image paths and labels\n",
    "train_data = []\n",
    "\n",
    "# Load image paths and assign labels for normal cases (label: 0)\n",
    "for img in normal_cases_dir.glob('*.png'):\n",
    "    train_data.append((img, 0))\n",
    "\n",
    "# Load image paths and assign labels for tuberculosis cases (label: 1)\n",
    "for img in Tuberculosis_cases_dir.glob('*.png'):\n",
    "    train_data.append((img, 1))"
   ]
  },
  {
   "cell_type": "markdown",
   "metadata": {
    "execution": {
     "iopub.execute_input": "2024-02-25T04:55:42.955471Z",
     "iopub.status.busy": "2024-02-25T04:55:42.955059Z",
     "iopub.status.idle": "2024-02-25T04:55:42.961941Z",
     "shell.execute_reply": "2024-02-25T04:55:42.960553Z",
     "shell.execute_reply.started": "2024-02-25T04:55:42.955441Z"
    }
   },
   "source": [
    "### Create DataFrame, Shuffle Data, and Display Class Distribution"
   ]
  },
  {
   "cell_type": "code",
   "execution_count": null,
   "metadata": {},
   "outputs": [],
   "source": [
    "# Create a DataFrame from the list\n",
    "train_data = pd.DataFrame(train_data, columns=['image', 'label'])\n",
    "\n",
    "# Shuffle the data\n",
    "train_data = train_data.sample(frac=1.).reset_index(drop=True)\n",
    "\n",
    "# Display class distribution\n",
    "cases_count = train_data['label'].value_counts()\n",
    "print(cases_count)\n",
    "\n",
    "# How the dataframe looks like?\n",
    "train_data.head()"
   ]
  },
  {
   "cell_type": "markdown",
   "metadata": {},
   "source": [
    "### Plot Class Distribution"
   ]
  },
  {
   "cell_type": "code",
   "execution_count": null,
   "metadata": {},
   "outputs": [],
   "source": [
    "# Plot class distribution\n",
    "plt.figure(figsize=(10, 8))\n",
    "sns.barplot(x=cases_count.index, y=cases_count.values)\n",
    "plt.title('Number of cases', fontsize=14)\n",
    "plt.xlabel('Case type', fontsize=12)\n",
    "plt.ylabel('Count', fontsize=12)\n",
    "plt.xticks(range(len(cases_count.index)), ['Normal(0)', 'Tuberculosis(1)'])\n",
    "plt.show()"
   ]
  },
  {
   "cell_type": "markdown",
   "metadata": {
    "execution": {
     "iopub.execute_input": "2024-02-25T05:00:48.490936Z",
     "iopub.status.busy": "2024-02-25T05:00:48.490418Z",
     "iopub.status.idle": "2024-02-25T05:00:48.497282Z",
     "shell.execute_reply": "2024-02-25T05:00:48.495458Z",
     "shell.execute_reply.started": "2024-02-25T05:00:48.490897Z"
    }
   },
   "source": [
    "# <font color='red'>Part 2: Data Preprocessing<font color='red'> 🧐"
   ]
  },
  {
   "cell_type": "markdown",
   "metadata": {},
   "source": [
    "### Get Few Samples for Both Classes and Plot Data"
   ]
  },
  {
   "cell_type": "code",
   "execution_count": null,
   "metadata": {},
   "outputs": [],
   "source": [
    "# Get few samples for both the classes\n",
    "Tuberculosis_samples = (train_data[train_data['label']==1]['image'].iloc[:5]).tolist()\n",
    "normal_samples = (train_data[train_data['label']==0]['image'].iloc[:5]).tolist()\n",
    "\n",
    "# Concatenate the data in a single list and delete the above two lists\n",
    "samples = Tuberculosis_samples + normal_samples\n",
    "del Tuberculosis_samples, normal_samples\n",
    "\n",
    "# Plot the data\n",
    "f, ax = plt.subplots(2, 5, figsize=(30, 10))\n",
    "for i in range(10):\n",
    "    img = imread(samples[i])\n",
    "    ax[i//5, i%5].imshow(img, cmap='gray')\n",
    "    if i < 5:\n",
    "        ax[i//5, i%5].set_title(\"Tuberculosis\")\n",
    "    else:\n",
    "        ax[i//5, i%5].set_title(\"Normal\")\n",
    "    ax[i//5, i%5].axis('off')\n",
    "    ax[i//5, i%5].set_aspect('auto')\n",
    "plt.show()"
   ]
  },
  {
   "cell_type": "markdown",
   "metadata": {},
   "source": [
    "### Data Preprocessing"
   ]
  },
  {
   "cell_type": "code",
   "execution_count": 43,
   "metadata": {
    "execution": {
     "iopub.status.idle": "2024-02-25T08:07:49.068481Z",
     "shell.execute_reply": "2024-02-25T08:07:49.067351Z",
     "shell.execute_reply.started": "2024-02-25T08:07:10.031973Z"
    }
   },
   "outputs": [
    {
     "name": "stderr",
     "output_type": "stream",
     "text": [
      "3500it [00:32, 106.41it/s]\n",
      "700it [00:06, 114.84it/s]"
     ]
    },
    {
     "name": "stdout",
     "output_type": "stream",
     "text": [
      "Total number of validation examples:  (4200, 28, 28, 3)\n",
      "Total number of labels: (4200,)\n"
     ]
    },
    {
     "name": "stderr",
     "output_type": "stream",
     "text": [
      "\n"
     ]
    }
   ],
   "source": [
    "# Define directories for normal and tuberculosis cases\n",
    "normal_cases_dir = data_dir / 'Normal'\n",
    "Tuberculosis_cases_dir = data_dir / 'Tuberculosis'\n",
    "\n",
    "# Initialize lists for data and labels\n",
    "train_data = []\n",
    "train_labels = []\n",
    "\n",
    "# Load and preprocess normal cases\n",
    "for img in tqdm(normal_cases_dir.glob('*.png')):\n",
    "    img = cv2.imread(str(img))\n",
    "    img = cv2.resize(img, (28, 28))\n",
    "    if img.shape[2] == 1:\n",
    "        img = np.dstack([img, img, img])\n",
    "    img = cv2.cvtColor(img, cv2.COLOR_BGR2RGB)\n",
    "    img = np.array(img) / 255\n",
    "    label = 'normal'\n",
    "    train_data.append(img)\n",
    "    train_labels.append(label)\n",
    "\n",
    "# Load and preprocess tuberculosis cases\n",
    "for img in tqdm(Tuberculosis_cases_dir.glob('*.png')):\n",
    "    img = cv2.imread(str(img))\n",
    "    img = cv2.resize(img, (28, 28))\n",
    "    if img.shape[2] == 1:\n",
    "        img = np.dstack([img, img, img])\n",
    "    img = cv2.cvtColor(img, cv2.COLOR_BGR2RGB)\n",
    "    img = np.array(img) / 255\n",
    "    label = 'Tuberculosis'\n",
    "    train_data.append(img)\n",
    "    train_labels.append(label)\n",
    "\n",
    "# Convert lists to numpy arrays\n",
    "train_data1 = np.array(train_data)\n",
    "train_labels1 = np.array(train_labels)\n",
    "\n",
    "print(\"Total number of validation examples: \", train_data1.shape)\n",
    "print(\"Total number of labels:\", train_labels1.shape)"
   ]
  },
  {
   "cell_type": "code",
   "execution_count": 44,
   "metadata": {
    "execution": {
     "iopub.execute_input": "2024-02-25T08:07:49.070820Z",
     "iopub.status.busy": "2024-02-25T08:07:49.070374Z",
     "iopub.status.idle": "2024-02-25T08:07:49.082457Z",
     "shell.execute_reply": "2024-02-25T08:07:49.081234Z",
     "shell.execute_reply.started": "2024-02-25T08:07:49.070782Z"
    }
   },
   "outputs": [
    {
     "data": {
      "text/html": [
       "<div>\n",
       "<style scoped>\n",
       "    .dataframe tbody tr th:only-of-type {\n",
       "        vertical-align: middle;\n",
       "    }\n",
       "\n",
       "    .dataframe tbody tr th {\n",
       "        vertical-align: top;\n",
       "    }\n",
       "\n",
       "    .dataframe thead th {\n",
       "        text-align: right;\n",
       "    }\n",
       "</style>\n",
       "<table border=\"1\" class=\"dataframe\">\n",
       "  <thead>\n",
       "    <tr style=\"text-align: right;\">\n",
       "      <th></th>\n",
       "      <th>label</th>\n",
       "    </tr>\n",
       "  </thead>\n",
       "  <tbody>\n",
       "    <tr>\n",
       "      <th>0</th>\n",
       "      <td>normal</td>\n",
       "    </tr>\n",
       "    <tr>\n",
       "      <th>1</th>\n",
       "      <td>normal</td>\n",
       "    </tr>\n",
       "    <tr>\n",
       "      <th>2</th>\n",
       "      <td>normal</td>\n",
       "    </tr>\n",
       "    <tr>\n",
       "      <th>3</th>\n",
       "      <td>normal</td>\n",
       "    </tr>\n",
       "    <tr>\n",
       "      <th>4</th>\n",
       "      <td>normal</td>\n",
       "    </tr>\n",
       "  </tbody>\n",
       "</table>\n",
       "</div>"
      ],
      "text/plain": [
       "    label\n",
       "0  normal\n",
       "1  normal\n",
       "2  normal\n",
       "3  normal\n",
       "4  normal"
      ]
     },
     "execution_count": 44,
     "metadata": {},
     "output_type": "execute_result"
    }
   ],
   "source": [
    "train_labels1 = pd.DataFrame(train_labels1, columns=[ 'label'],index=None)\n",
    "train_labels1.head()"
   ]
  },
  {
   "cell_type": "code",
   "execution_count": 45,
   "metadata": {
    "execution": {
     "iopub.execute_input": "2024-02-25T08:07:49.086081Z",
     "iopub.status.busy": "2024-02-25T08:07:49.085624Z",
     "iopub.status.idle": "2024-02-25T08:07:49.099126Z",
     "shell.execute_reply": "2024-02-25T08:07:49.097807Z",
     "shell.execute_reply.started": "2024-02-25T08:07:49.086043Z"
    }
   },
   "outputs": [
    {
     "data": {
      "text/plain": [
       "array([0, 1])"
      ]
     },
     "execution_count": 45,
     "metadata": {},
     "output_type": "execute_result"
    }
   ],
   "source": [
    "train_labels1['label']=train_labels1['label'].map({'normal':0,'Tuberculosis':1})\n",
    "train_labels1['label'].unique()"
   ]
  },
  {
   "cell_type": "markdown",
   "metadata": {
    "execution": {
     "iopub.execute_input": "2024-02-25T05:05:41.602782Z",
     "iopub.status.busy": "2024-02-25T05:05:41.602281Z",
     "iopub.status.idle": "2024-02-25T05:05:41.608571Z",
     "shell.execute_reply": "2024-02-25T05:05:41.607627Z",
     "shell.execute_reply.started": "2024-02-25T05:05:41.602734Z"
    }
   },
   "source": [
    "### Reshape Data and Perform SMOTE Oversampling"
   ]
  },
  {
   "cell_type": "code",
   "execution_count": 46,
   "metadata": {
    "execution": {
     "iopub.execute_input": "2024-02-25T08:07:49.100596Z",
     "iopub.status.busy": "2024-02-25T08:07:49.100280Z",
     "iopub.status.idle": "2024-02-25T08:07:49.565135Z",
     "shell.execute_reply": "2024-02-25T08:07:49.563693Z",
     "shell.execute_reply.started": "2024-02-25T08:07:49.100571Z"
    }
   },
   "outputs": [
    {
     "name": "stdout",
     "output_type": "stream",
     "text": [
      "Class distribution after SMOTE:\n",
      "label\n",
      "0    3500\n",
      "1    3500\n",
      "Name: count, dtype: int64\n"
     ]
    },
    {
     "data": {
      "image/png": "[encoded data removed]",
      "text/plain": [
       "<Figure size 1000x800 with 1 Axes>"
      ]
     },
     "metadata": {},
     "output_type": "display_data"
    }
   ],
   "source": [
    "# Import necessary libraries\n",
    "from imblearn.over_sampling import SMOTE\n",
    "\n",
    "# Initialize SMOTE (Synthetic Minority Over-sampling Technique)\n",
    "smt = SMOTE()\n",
    "\n",
    "# Get the number of rows in the original training data\n",
    "train_rows = len(train_data1)\n",
    "\n",
    "# Reshape the original training data to 1D array (flattening)\n",
    "train_data1 = train_data1.reshape(train_rows, -1)\n",
    "\n",
    "# Apply SMOTE to generate synthetic samples for balancing classes\n",
    "train_data2, train_labels2 = smt.fit_resample(train_data1, train_labels1)\n",
    "\n",
    "# Count class distribution after applying SMOTE\n",
    "cases_count1 = train_labels2['label'].value_counts()\n",
    "\n",
    "# Print the class distribution after SMOTE\n",
    "print(\"Class distribution after SMOTE:\")\n",
    "print(cases_count1)\n",
    "\n",
    "# Plot the results \n",
    "plt.figure(figsize=(10,8))\n",
    "sns.barplot(x=cases_count1.index, y= cases_count1.values)\n",
    "plt.title('Number of cases', fontsize=14)\n",
    "plt.xlabel('Case type', fontsize=12)\n",
    "plt.ylabel('Count', fontsize=12)\n",
    "plt.xticks(range(len(cases_count.index)), ['Normal(0)', 'Tuberculosis(1)'])\n",
    "plt.show()"
   ]
  },
  {
   "cell_type": "markdown",
   "metadata": {},
   "source": [
    "### Prepare Data for Model Training"
   ]
  },
  {
   "cell_type": "code",
   "execution_count": 47,
   "metadata": {
    "execution": {
     "iopub.execute_input": "2024-02-25T08:07:49.566848Z",
     "iopub.status.busy": "2024-02-25T08:07:49.566477Z",
     "iopub.status.idle": "2024-02-25T08:07:49.616419Z",
     "shell.execute_reply": "2024-02-25T08:07:49.615182Z",
     "shell.execute_reply.started": "2024-02-25T08:07:49.566817Z"
    }
   },
   "outputs": [],
   "source": [
    "# Reshape data back to image dimensions\n",
    "train_data2 = train_data2.reshape(-1, 28, 28, 3)\n",
    "\n",
    "# Split data into training and testing sets\n",
    "X_train, X_test, y_train, y_test = train_test_split(train_data2, train_labels2, test_size=0.13, random_state=42)"
   ]
  },
  {
   "cell_type": "markdown",
   "metadata": {},
   "source": [
    "# <font color='red'>3. Modelling<font color='red'> 🤖"
   ]
  },
  {
   "cell_type": "markdown",
   "metadata": {},
   "source": [
    "### Data Augmentation Setup"
   ]
  },
  {
   "cell_type": "code",
   "execution_count": 48,
   "metadata": {
    "execution": {
     "iopub.execute_input": "2024-02-25T08:07:49.618110Z",
     "iopub.status.busy": "2024-02-25T08:07:49.617769Z",
     "iopub.status.idle": "2024-02-25T08:07:49.796096Z",
     "shell.execute_reply": "2024-02-25T08:07:49.795038Z",
     "shell.execute_reply.started": "2024-02-25T08:07:49.618082Z"
    }
   },
   "outputs": [],
   "source": [
    "# Set up data augmentation\n",
    "data_augmentation = keras.Sequential(\n",
    "  [\n",
    "    layers.RandomFlip(\"horizontal\", input_shape=(28, 28, 3)),\n",
    "    layers.RandomRotation(0.1),\n",
    "    layers.RandomZoom(0.1),\n",
    "  ]\n",
    ")"
   ]
  },
  {
   "cell_type": "code",
   "execution_count": 49,
   "metadata": {
    "execution": {
     "iopub.execute_input": "2024-02-25T08:07:49.797765Z",
     "iopub.status.busy": "2024-02-25T08:07:49.797409Z",
     "iopub.status.idle": "2024-02-25T08:07:50.036320Z",
     "shell.execute_reply": "2024-02-25T08:07:50.035247Z",
     "shell.execute_reply.started": "2024-02-25T08:07:49.797735Z"
    }
   },
   "outputs": [
    {
     "name": "stdout",
     "output_type": "stream",
     "text": [
      "Model: \"sequential_5\"\n",
      "_________________________________________________________________\n",
      " Layer (type)                Output Shape              Param #   \n",
      "=================================================================\n",
      " sequential_4 (Sequential)   (None, 28, 28, 3)         0         \n",
      "                                                                 \n",
      " conv2d_6 (Conv2D)           (None, 26, 26, 28)        784       \n",
      "                                                                 \n",
      " max_pooling2d_4 (MaxPoolin  (None, 13, 13, 28)        0         \n",
      " g2D)                                                            \n",
      "                                                                 \n",
      " conv2d_7 (Conv2D)           (None, 11, 11, 64)        16192     \n",
      "                                                                 \n",
      " max_pooling2d_5 (MaxPoolin  (None, 5, 5, 64)          0         \n",
      " g2D)                                                            \n",
      "                                                                 \n",
      " conv2d_8 (Conv2D)           (None, 3, 3, 64)          36928     \n",
      "                                                                 \n",
      "=================================================================\n",
      "Total params: 53904 (210.56 KB)\n",
      "Trainable params: 53904 (210.56 KB)\n",
      "Non-trainable params: 0 (0.00 Byte)\n",
      "_________________________________________________________________\n"
     ]
    }
   ],
   "source": [
    "\n",
    "# Initialize the model\n",
    "model = models.Sequential([\n",
    "    data_augmentation,\n",
    "    layers.Conv2D(28, (3, 3), activation='relu', input_shape=(28, 28, 3)),\n",
    "    layers.MaxPooling2D((2, 2)),\n",
    "    layers.Conv2D(64, (3, 3), activation='relu'),\n",
    "    layers.MaxPooling2D((2, 2)),\n",
    "    layers.Conv2D(64, (3, 3), activation='relu')\n",
    "])\n",
    "\n",
    "# Display model summary\n",
    "model.summary()"
   ]
  },
  {
   "cell_type": "code",
   "execution_count": 50,
   "metadata": {
    "execution": {
     "iopub.execute_input": "2024-02-25T08:07:50.037983Z",
     "iopub.status.busy": "2024-02-25T08:07:50.037632Z",
     "iopub.status.idle": "2024-02-25T08:07:50.183131Z",
     "shell.execute_reply": "2024-02-25T08:07:50.182052Z",
     "shell.execute_reply.started": "2024-02-25T08:07:50.037956Z"
    }
   },
   "outputs": [
    {
     "name": "stdout",
     "output_type": "stream",
     "text": [
      "Model: \"sequential_5\"\n",
      "_________________________________________________________________\n",
      " Layer (type)                Output Shape              Param #   \n",
      "=================================================================\n",
      " sequential_4 (Sequential)   (None, 28, 28, 3)         0         \n",
      "                                                                 \n",
      " conv2d_6 (Conv2D)           (None, 26, 26, 28)        784       \n",
      "                                                                 \n",
      " max_pooling2d_4 (MaxPoolin  (None, 13, 13, 28)        0         \n",
      " g2D)                                                            \n",
      "                                                                 \n",
      " conv2d_7 (Conv2D)           (None, 11, 11, 64)        16192     \n",
      "                                                                 \n",
      " max_pooling2d_5 (MaxPoolin  (None, 5, 5, 64)          0         \n",
      " g2D)                                                            \n",
      "                                                                 \n",
      " conv2d_8 (Conv2D)           (None, 3, 3, 64)          36928     \n",
      "                                                                 \n",
      " flatten_3 (Flatten)         (None, 576)               0         \n",
      "                                                                 \n",
      " dense_15 (Dense)            (None, 640)               369280    \n",
      "                                                                 \n",
      " dropout_6 (Dropout)         (None, 640)               0         \n",
      "                                                                 \n",
      " dense_16 (Dense)            (None, 564)               361524    \n",
      "                                                                 \n",
      " dropout_7 (Dropout)         (None, 564)               0         \n",
      "                                                                 \n",
      " dense_17 (Dense)            (None, 64)                36160     \n",
      "                                                                 \n",
      " dense_18 (Dense)            (None, 64)                4160      \n",
      "                                                                 \n",
      " dense_19 (Dense)            (None, 2)                 130       \n",
      "                                                                 \n",
      "=================================================================\n",
      "Total params: 825158 (3.15 MB)\n",
      "Trainable params: 825158 (3.15 MB)\n",
      "Non-trainable params: 0 (0.00 Byte)\n",
      "_________________________________________________________________\n"
     ]
    }
   ],
   "source": [
    "# Add dense layers to the model\n",
    "model.add(layers.Flatten())\n",
    "model.add(layers.Dense(640, activation='tanh'))\n",
    "model.add(layers.Dropout(0.5))\n",
    "model.add(layers.Dense(564, activation='tanh'))\n",
    "model.add(layers.Dropout(0.5))\n",
    "model.add(layers.Dense(64, activation='tanh'))\n",
    "model.add(layers.Dense(64, activation='sigmoid'))\n",
    "model.add(layers.Dense(2))\n",
    "\n",
    "# Display updated model summary\n",
    "model.summary()\n",
    "\n",
    "# Compile the model\n",
    "model.compile(optimizer='adam',\n",
    "              loss=tf.keras.losses.SparseCategoricalCrossentropy(from_logits=True),\n",
    "              metrics=['accuracy'])"
   ]
  },
  {
   "cell_type": "code",
   "execution_count": null,
   "metadata": {},
   "outputs": [],
   "source": [
    "# Train the model\n",
    "model.fit(np.array(X_train), np.array(y_train), epochs=200, validation_data=(np.array(X_test), np.array(y_test)))"
   ]
  },
  {
   "cell_type": "markdown",
   "metadata": {},
   "source": [
    "# <font color='red'>4. Model Evaluation<font color='red'> 📊"
   ]
  },
  {
   "cell_type": "code",
   "execution_count": null,
   "metadata": {},
   "outputs": [],
   "source": [
    "# Train the model with history to track metrics\n",
    "history = model.fit(np.array(X_train), np.array(y_train), epochs=200, validation_data=(np.array(X_test), np.array(y_test)))"
   ]
  },
  {
   "cell_type": "code",
   "execution_count": 57,
   "metadata": {
    "execution": {
     "iopub.execute_input": "2024-02-25T08:53:16.227962Z",
     "iopub.status.busy": "2024-02-25T08:53:16.227571Z",
     "iopub.status.idle": "2024-02-25T08:53:17.279271Z",
     "shell.execute_reply": "2024-02-25T08:53:17.278125Z",
     "shell.execute_reply.started": "2024-02-25T08:53:16.227935Z"
    }
   },
   "outputs": [
    {
     "data": {
      "image/png": "[encoded data removed]",
      "text/plain": [
       "<Figure size 1200x400 with 2 Axes>"
      ]
     },
     "metadata": {},
     "output_type": "display_data"
    },
    {
     "name": "stdout",
     "output_type": "stream",
     "text": [
      "29/29 [==============================] - 0s 8ms/step\n",
      "Classification Report:\n",
      "              precision    recall  f1-score   support\n",
      "\n",
      "           0       0.87      1.00      0.93       475\n",
      "           1       1.00      0.83      0.91       435\n",
      "\n",
      "    accuracy                           0.92       910\n",
      "   macro avg       0.93      0.92      0.92       910\n",
      "weighted avg       0.93      0.92      0.92       910\n",
      "\n"
     ]
    },
    {
     "data": {
      "image/png": "[encoded data removed]",
      "text/plain": [
       "<Figure size 800x600 with 2 Axes>"
      ]
     },
     "metadata": {},
     "output_type": "display_data"
    }
   ],
   "source": [
    "# Plot validation loss and accuracy\n",
    "plt.figure(figsize=(12, 4))\n",
    "plt.subplot(1, 2, 1)\n",
    "plt.plot(history.history['val_loss'], label='Validation Loss')\n",
    "plt.title('Validation Loss Over Epochs')\n",
    "plt.xlabel('Epochs')\n",
    "plt.ylabel('Loss')\n",
    "plt.ylim(0, 1)  # Set y-axis range between 0 and 1\n",
    "plt.legend()\n",
    "\n",
    "plt.subplot(1, 2, 2)\n",
    "plt.plot(history.history['val_accuracy'], label='Validation Accuracy', color='orange')\n",
    "plt.title('Validation Accuracy Over Epochs')\n",
    "plt.xlabel('Epochs')\n",
    "plt.ylabel('Accuracy')\n",
    "plt.ylim(0, 1)  # Set y-axis range between 0 and 1\n",
    "plt.legend()\n",
    "plt.show()\n",
    "\n",
    "# Predict on the test set\n",
    "y_pred = np.argmax(model.predict(np.array(X_test)), axis=1)\n",
    "\n",
    "# Generate classification report\n",
    "class_report = classification_report(np.array(y_test), y_pred)\n",
    "print(\"Classification Report:\")\n",
    "print(class_report)\n",
    "\n",
    "# Generate confusion matrix\n",
    "cm = confusion_matrix(np.array(y_test), y_pred)\n",
    "\n",
    "# Plot heatmap of confusion matrix with annotations\n",
    "plt.figure(figsize=(8, 6))\n",
    "sns.heatmap(cm, annot=True, fmt='g', cmap='Blues', xticklabels=['Normal', 'Tuberculosis'], yticklabels=['Normal', 'Tuberculosis'])\n",
    "plt.title('Confusion Matrix')\n",
    "plt.xlabel('Predicted')\n",
    "plt.ylabel('True')\n",
    "plt.show()"
   ]
  }
 ],
 "metadata": {
  "kaggle": {
   "accelerator": "none",
   "dataSources": [
    {
     "datasetId": 891819,
     "sourceId": 2332307,
     "sourceType": "datasetVersion"
    }
   ],
   "dockerImageVersionId": 30646,
   "isGpuEnabled": false,
   "isInternetEnabled": false,
   "language": "python",
   "sourceType": "notebook"
  },
  "kernelspec": {
   "display_name": "Python 3 (ipykernel)",
   "language": "python",
   "name": "python3"
  },
  "language_info": {
   "codemirror_mode": {
    "name": "ipython",
    "version": 3
   },
   "file_extension": ".py",
   "mimetype": "text/x-python",
   "name": "python",
   "nbconvert_exporter": "python",
   "pygments_lexer": "ipython3",
   "version": "3.11.4"
  }
 },
 "nbformat": 4,
 "nbformat_minor": 4
}
